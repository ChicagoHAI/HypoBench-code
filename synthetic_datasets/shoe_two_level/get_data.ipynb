{
 "cells": [
  {
   "cell_type": "code",
   "execution_count": 1,
   "metadata": {},
   "outputs": [],
   "source": [
    "import json\n",
    "import pickle"
   ]
  },
  {
   "cell_type": "code",
   "execution_count": 2,
   "metadata": {},
   "outputs": [],
   "source": [
    "difficult_level = 'simple' # simple, hard"
   ]
  },
  {
   "cell_type": "code",
   "execution_count": 3,
   "metadata": {},
   "outputs": [],
   "source": [
    "path = f'/data/rosa/work_in_progress/compositional_interpretability/data/shoe_{difficult_level}_two_level.pkl'"
   ]
  },
  {
   "cell_type": "code",
   "execution_count": 4,
   "metadata": {},
   "outputs": [
    {
     "name": "stdout",
     "output_type": "stream",
     "text": [
      "('a young and tall man with blue hat, black shirt, and a small white bag', 'the color of shoes is black')\n"
     ]
    }
   ],
   "source": [
    "# read pickle\n",
    "with open(path, 'rb') as f:\n",
    "    data = pickle.load(f)\n",
    "\n",
    "print(data[0])"
   ]
  },
  {
   "cell_type": "code",
   "execution_count": 5,
   "metadata": {},
   "outputs": [
    {
     "name": "stdout",
     "output_type": "stream",
     "text": [
      "1100\n",
      "1100\n",
      "1100\n",
      "a young and tall man with white hat, green shirt, and a small green bag\n",
      "the color of shoes is green\n",
      "green\n"
     ]
    }
   ],
   "source": [
    "appearance_list = []\n",
    "shoe_list = []\n",
    "label_list = []\n",
    "for d in data:\n",
    "    appearance_list.append(d[0])\n",
    "    shoe_list.append(d[1])\n",
    "    word_list = d[1].split(' ')\n",
    "    label = word_list[-1]\n",
    "    label_list.append(label)\n",
    "\n",
    "print(len(appearance_list))\n",
    "print(len(shoe_list))\n",
    "print(len(label_list))\n",
    "print(appearance_list[-1])\n",
    "print(shoe_list[-1])\n",
    "print(label_list[-1])"
   ]
  },
  {
   "cell_type": "code",
   "execution_count": 6,
   "metadata": {},
   "outputs": [],
   "source": [
    "# split 900, 100, 100\n",
    "train_appearance_list = appearance_list[:900]\n",
    "train_shoe_list = shoe_list[:900]\n",
    "train_label_list = label_list[:900]\n",
    "\n",
    "val_appearance_list = appearance_list[900:1000]\n",
    "val_shoe_list = shoe_list[900:1000]\n",
    "val_label_list = label_list[900:1000]\n",
    "\n",
    "test_appearance_list = appearance_list[1000:]\n",
    "test_shoe_list = shoe_list[1000:]\n",
    "test_label_list = label_list[1000:]"
   ]
  },
  {
   "cell_type": "code",
   "execution_count": 7,
   "metadata": {},
   "outputs": [],
   "source": [
    "train = {\n",
    "    'appearance': train_appearance_list,\n",
    "    'shoe': train_shoe_list,\n",
    "    'label': train_label_list\n",
    "}\n",
    "\n",
    "val = {\n",
    "    'appearance': val_appearance_list,\n",
    "    'shoe': val_shoe_list,\n",
    "    'label': val_label_list\n",
    "}\n",
    "\n",
    "test = {\n",
    "    'appearance': test_appearance_list,\n",
    "    'shoe': test_shoe_list,\n",
    "    'label': test_label_list\n",
    "}"
   ]
  },
  {
   "cell_type": "code",
   "execution_count": 8,
   "metadata": {},
   "outputs": [],
   "source": [
    "output_folder = f'/data/rosa/work_in_progress/hypothesis-generation/data/shoe_two_level/{difficult_level}'\n",
    "\n",
    "for split in ['train', 'val', 'test']:\n",
    "    with open(f'{output_folder}/shoe_{split}.json', 'w') as f:\n",
    "        if split == 'train':\n",
    "            json.dump(train, f)\n",
    "        elif split == 'val':\n",
    "            json.dump(val, f)\n",
    "        elif split == 'test':\n",
    "            json.dump(test, f)\n",
    "        else:\n",
    "            print('error')"
   ]
  }
 ],
 "metadata": {
  "kernelspec": {
   "display_name": "Python 3",
   "language": "python",
   "name": "python3"
  },
  "language_info": {
   "codemirror_mode": {
    "name": "ipython",
    "version": 3
   },
   "file_extension": ".py",
   "mimetype": "text/x-python",
   "name": "python",
   "nbconvert_exporter": "python",
   "pygments_lexer": "ipython3",
   "version": "3.10.16"
  }
 },
 "nbformat": 4,
 "nbformat_minor": 2
}
